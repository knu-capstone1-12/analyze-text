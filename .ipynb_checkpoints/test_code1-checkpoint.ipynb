{
 "cells": [
  {
   "cell_type": "code",
   "execution_count": null,
   "metadata": {},
   "outputs": [],
   "source": [
    "# TEANAPS 형태소 분석기를 불러옵니다.\n",
    "from teanaps.nlp import MorphologicalAnalyzer\n",
    "\n",
    "ma = MorphologicalAnalyzer()\n",
    "\n",
    "# TEANAPS에서는 한국어 텍스트 분석을 위해 3가지 형태소분석기를 지원합니다.\n",
    "# 사용할 형태소분석기 유형을 지정합니다.\n",
    "# 지정하지 않은 경우에는 기본으로 Okt 형태소분석기가 사용됩니다.\n",
    "ma.set_tagger(\"okt\")\n",
    "#ma.set_tagger(\"mecab\")\n",
    "#ma.set_tagger(\"kkma\")\n",
    "\n",
    "text = \"손흥민이 골을 작렬하며 토트넘 홋스퍼의 승리를 이끌었다.\"\n",
    "pos_list = ma.parse(text)\n",
    "print(pos_list)"
   ]
  }
 ],
 "metadata": {
  "kernelspec": {
   "display_name": "Python 3",
   "language": "python",
   "name": "python3"
  },
  "language_info": {
   "codemirror_mode": {
    "name": "ipython",
    "version": 3
   },
   "file_extension": ".py",
   "mimetype": "text/x-python",
   "name": "python",
   "nbconvert_exporter": "python",
   "pygments_lexer": "ipython3",
   "version": "3.7.4"
  }
 },
 "nbformat": 4,
 "nbformat_minor": 2
}
